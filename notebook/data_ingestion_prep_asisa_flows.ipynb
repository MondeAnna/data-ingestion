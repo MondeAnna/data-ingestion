{
 "cells": [
  {
   "cell_type": "markdown",
   "id": "cd095bda",
   "metadata": {},
   "source": [
    "<br />\n",
    "\n",
    "<h1 align=\"center\">Data Ingestion Prep</h1>\n",
    "<h5 align=\"center\">for</h5>\n",
    "<h1 align=\"center\">Asisa Flows</h1>\n",
    "<h5 align=\"center\">by</h5>\n",
    "<h3 align=\"center\">Monde Anna</h3>\n",
    "\n",
    "<br />\n",
    "<br />\n"
   ]
  },
  {
   "cell_type": "markdown",
   "id": "7a72451b",
   "metadata": {},
   "source": [
    "<h2 align=\"center\">Introduction</h2>\n",
    "\n",
    "<br />\n",
    "<br />\n"
   ]
  },
  {
   "cell_type": "markdown",
   "id": "76376f7b",
   "metadata": {},
   "source": [
    "<p><a href=\"https://www.asisa.org.za/about-us/\"><b><i>ASISA</i></b></a> is a non-profit organisation that represents South Africa's financial services sector. In essence, offering a union, wherein membership gives companies in the savings, investment and insurance industries a combined voice in discussions and negotiations with regulators, policymakers and other stakeholders, such as intermediaries, the media and consumers.</p>\n",
    "\n",
    "<p>To our great benefit, <b><i>ASISA</i></b> also provides <a href=\"https://www.asisa.org.za/statistics/\">statistics</a> relating to the financial services sector and it is with those that we will concern ourselves.</p>\n",
    "\n",
    "<p>The task ahead of us is preparing <i>Analysis</i> and <i>CISFunds</i> sheets data, published in <i>Flows</i> documentation, for ingestion and to do so for any available quarter. To our great joy, the source data is already in a flat state and merely misses quarterly dates. Concerning <i>CISFunds</i>, there are years without data, a point to remain cognizant of. For more information on <b><i>ASISA</i></b>, please follow this <a href=\"https://www.asisa.org.za/about-us/\">link</a>.</p>\n",
    "\n",
    "<p>We will use the Start Schema with a <b><i>Fact</i></b> that links to the <b><i>Dimensions</i></b> below:</p>\n",
    "\n",
    "<br />\n",
    "\n",
    "<table align=\"center\">\n",
    "    <tr>\n",
    "        <th align=\"center\" colspan=\"5\"><b><i>Dimensions</i></b></th>\n",
    "    </tr>\n",
    "    <tr>\n",
    "        <td align=\"center\"><b><i>CIS_Manager</i></b></td>\n",
    "        <td align=\"center\"><b><i>Date_Key</i></b></td>\n",
    "        <td align=\"center\"><b><i>Sector_Classification</i></b></td>\n",
    "        <td align=\"center\"><b><i>Fund_Name</i></b></td>\n",
    "        <td align=\"center\"><b><i>Retail_Institutional</i></b></td>\n",
    "    <tr>\n",
    "        <td align=\"center\"><b><i>Fund_of_Funds</i></b></td>\n",
    "        <td align=\"center\"><b><i>Third_Party</i></b></td>\n",
    "        <td align=\"center\"><b><i>Management_Style</i></b></td>\n",
    "        <td align=\"center\"><b><i>Original_Analysis</i></b></td>\n",
    "        <td align=\"center\"><b><i>Original_CIS_Funds</i></b></td>\n",
    "    </tr>\n",
    "</table>\n",
    "\n",
    "\n",
    "<br />\n",
    "\n",
    "<p><b><i>NOTE:</i></b> <a href=\"https://www.sqlshack.com/implementing-slowly-changing-dimensions-scds-in-data-warehouses/\">Slowly Changing Dimensions</a> will be handled using SDC Type 1, that is, overwritten.</p>\n",
    "\n",
    "<br />\n",
    "<br />\n"
   ]
  },
  {
   "cell_type": "markdown",
   "id": "509b69dc",
   "metadata": {},
   "source": [
    "<h2 align=\"center\">Imports</h2>\n",
    "\n",
    "<br />\n",
    "<br />\n"
   ]
  },
  {
   "cell_type": "code",
   "execution_count": 1,
   "id": "a4d0cb96",
   "metadata": {},
   "outputs": [],
   "source": [
    "from utilities.asisa_scraper import scrape_excel\n",
    "import pandas as pd\n"
   ]
  },
  {
   "cell_type": "markdown",
   "id": "07f933df",
   "metadata": {},
   "source": [
    "<br />\n",
    "\n",
    "<h2 align=\"center\">Global Settings</h2>\n",
    "\n",
    "<br />\n",
    "<br />\n"
   ]
  },
  {
   "cell_type": "code",
   "execution_count": 2,
   "id": "9a73dab1",
   "metadata": {},
   "outputs": [],
   "source": [
    "%%capture\n",
    "%load_ext black_nb\n",
    "pd.options.display.float_format = \"{:.0f}\".format\n"
   ]
  },
  {
   "cell_type": "markdown",
   "id": "9ac639db",
   "metadata": {},
   "source": [
    "<br />\n",
    "\n",
    "<h2 align=\"center\">Data Acquisition</h2>\n",
    "\n",
    "<br />\n",
    "<br />\n"
   ]
  },
  {
   "cell_type": "markdown",
   "id": "abeb94d6",
   "metadata": {},
   "source": [
    "<p>Regarding published data, the <b><i>Asisa Web Scraper</i></b> module has the functionality that will take care of the acquisition. We will merely need to further clean the raw data and ensure that it is ready for presentation. As a way to limit the number of web calls, the returned <i>data</i> is stored in memory using Jupyter Notebook's <i>%store</i> magic method.</p>\n",
    "\n",
    "<br />\n",
    "<br />\n"
   ]
  },
  {
   "cell_type": "markdown",
   "id": "e6fb27d2",
   "metadata": {},
   "source": [
    "<h5 align=\"center\">In Memory Storage of Raw Data</h5>\n",
    "<h5 align=\"center\">Acquired via WebScraping</h5>\n",
    "\n",
    "<br />\n",
    "<br />\n"
   ]
  },
  {
   "cell_type": "code",
   "execution_count": 3,
   "id": "b9cd85ef",
   "metadata": {},
   "outputs": [],
   "source": [
    "%%capture\n",
    "%store -r excel_files\n",
    "\n",
    "if \"excel_files\" not in globals():\n",
    "    excel_files = scrape_excel(\"flow\")\n",
    "    %store excel_files\n"
   ]
  }
 ],
 "metadata": {
  "kernelspec": {
   "display_name": "Python 3 (ipykernel)",
   "language": "python",
   "name": "python3"
  },
  "language_info": {
   "codemirror_mode": {
    "name": "ipython",
    "version": 3
   },
   "file_extension": ".py",
   "mimetype": "text/x-python",
   "name": "python",
   "nbconvert_exporter": "python",
   "pygments_lexer": "ipython3",
   "version": "3.11.3"
  }
 },
 "nbformat": 4,
 "nbformat_minor": 5
}
